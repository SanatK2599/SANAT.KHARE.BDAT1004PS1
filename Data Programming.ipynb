{
 "cells": [
  {
   "cell_type": "markdown",
   "metadata": {},
   "source": [
    "# Q.1 What data type is each of the following?"
   ]
  },
  {
   "cell_type": "markdown",
   "metadata": {},
   "source": [
    "1. 5 - Integer\n",
    "\n",
    "2. 5.0 - Float\n",
    "\n",
    "3. 5>1 - Boolean(As it returns true or false)\n",
    "\n",
    "4. '5' - String(Because of single Quotes)\n",
    "\n",
    "5. 5*2 - Integer\n",
    "\n",
    "6. '5' * 2 - String\n",
    "\n",
    "7. '5' + '2' - String \n",
    "\n",
    "8. 5/2 - Float\n",
    "\n",
    "9. 5%2 - Integer\n",
    "\n",
    "10. {5, 2, 1} - Set\n",
    "\n",
    "11. 5 == 3 - Boolean\n",
    "\n",
    "12. Pi (the number) - Double\n"
   ]
  },
  {
   "cell_type": "code",
   "execution_count": 30,
   "metadata": {},
   "outputs": [
    {
     "data": {
      "text/plain": [
       "set"
      ]
     },
     "execution_count": 30,
     "metadata": {},
     "output_type": "execute_result"
    }
   ],
   "source": [
    "x = {dd5,2,1}\n",
    "type(x)"
   ]
  },
  {
   "cell_type": "markdown",
   "metadata": {},
   "source": [
    "# Question 2 C#\n",
    "Write (and evaluate) C# expressions that answer these questions:\n",
    "1. How many letters are there in 'Supercalifragilisticexpialidocious'?\n",
    "2. Does 'Supercalifragilisticexpialidocious' contain 'ice' as a substring?\n",
    "3. Which of the following words is the longest: Supercalifragilisticexpialidocious, Honorificabilitudinitatibus, or Bababadalgharaghtakamminarronnkonn?\n",
    "4. Which composer comes first in the dictionary: 'Berlioz', 'Borodin', 'Brian', 'Bartok', 'Bellini', 'Buxtehude', 'Bernstein'. Which one comes last?"
   ]
  },
  {
   "cell_type": "markdown",
   "metadata": {},
   "source": [
    "![title](PS1Q2.png)"
   ]
  },
  {
   "cell_type": "markdown",
   "metadata": {},
   "source": [
    "![title](PS1Q1D.png)"
   ]
  },
  {
   "cell_type": "markdown",
   "metadata": {},
   "source": [
    "# Question 3 C#\n",
    "Implement function triangleArea(a,b,c) that takes as input the lengths of the 3 sides of a triangle and returns the area of the triangle. By Heron's formula, the area of a triangle with side lengths a, b, and c is s(s-a)(s-b)(s-c), where\n",
    "s=(a+b+c)/2."
   ]
  },
  {
   "cell_type": "markdown",
   "metadata": {},
   "source": [
    "Used this link for finding about the sqrt function.\n",
    "https://www.geeksforgeeks.org/c-sharp-string-contains-method/"
   ]
  },
  {
   "cell_type": "markdown",
   "metadata": {},
   "source": [
    "![title](PS1Q3.png)"
   ]
  },
  {
   "cell_type": "markdown",
   "metadata": {},
   "source": [
    "# Question 4 C#\n",
    "Write a program in C# Sharp to separate odd and even integers in separate arrays."
   ]
  },
  {
   "cell_type": "markdown",
   "metadata": {},
   "source": [
    "Used the below link for the ToInt32 method which I was unaware about.\n",
    "https://www.geeksforgeeks.org/decimal-toint32-method-in-c-sharp/"
   ]
  },
  {
   "cell_type": "markdown",
   "metadata": {},
   "source": [
    "![title](PS1Q4.png)"
   ]
  },
  {
   "cell_type": "markdown",
   "metadata": {},
   "source": [
    "# Question 5 C#\n",
    "a. Write a function inside(x,y,x1,y1,x2,y2) that returns True or False depending on whether the point (x,y) lies in the rectangle with lower left corner (x1,y1) and upper right corner (x2,y2)."
   ]
  },
  {
   "cell_type": "markdown",
   "metadata": {},
   "source": [
    "Used this to get the ToSingle method to convert string to float.\n",
    "https://www.geeksforgeeks.org/c-sharp-convert-tosinglestring-iformatprovider-method/"
   ]
  },
  {
   "cell_type": "markdown",
   "metadata": {},
   "source": [
    "![title](PS1Q5A1.png)\n",
    "![title](PS1Q5A2.png)"
   ]
  },
  {
   "cell_type": "markdown",
   "metadata": {},
   "source": [
    "# Q.5B) \n",
    "Use function inside() from part a. to write an expression that tests whether the point (1,1) lies in both of the following rectangles: one with lower left corner (0.3, 0.5) and upper right corner (1.1, 0.7) and the other with lower left corner (0.5, 0.2) and upper right corner (1.1, 2)."
   ]
  },
  {
   "cell_type": "markdown",
   "metadata": {},
   "source": [
    "I have used the same code for both Part A and Part B because in part A it just takes input as integers and they can be accepted as float."
   ]
  },
  {
   "cell_type": "markdown",
   "metadata": {},
   "source": [
    "![title](PS1Q5B1.png)\n",
    "![title](PS1Q5B2.png)"
   ]
  },
  {
   "cell_type": "markdown",
   "metadata": {},
   "source": [
    "# Question 6 Python\n",
    "16. You can turn a word into pig-Latin using the following two rules (simplified):\n",
    "• If the word starts with a consonant, move that letter to the end and append\n",
    "'ay'. For example, 'happy' becomes 'appyhay' and 'pencil' becomes 'encilpay'.\n",
    "• If the word starts with a vowel, simply append 'way' to the end of the word.\n",
    "For example, 'enter' becomes 'enterway' and 'other' becomes 'otherway' . For\n",
    "our purposes, there are 5 vowels: a, e, i, o, u (so we count y as a consonant). Write a function pig() that takes a word (i.e., a string) as input and returns its pig- Latin form. Your function should still work if the input word contains upper case characters. Your output should always be lower case however."
   ]
  },
  {
   "cell_type": "code",
   "execution_count": 1,
   "metadata": {},
   "outputs": [
    {
     "name": "stdout",
     "output_type": "stream",
     "text": [
      "appyhay\n",
      "enterway\n"
     ]
    }
   ],
   "source": [
    "def isVowel(c):\n",
    "    return (c == 'a' or c == 'e' or c == 'i' or c == 'o' or c == 'u')\n",
    "\n",
    "def pig(word):\n",
    "    word = str.lower(word);\n",
    "    \n",
    "    if (isVowel(word[0])):\n",
    "        word = word + \"way\"\n",
    "        print(word)\n",
    "    else:\n",
    "        temp = word[0]\n",
    "        word = word[1:]\n",
    "        word = word + temp + \"ay\"\n",
    "        print(word);\n",
    "\n",
    "\n",
    "pig(\"happy\")\n",
    "pig(\"Enter\")"
   ]
  },
  {
   "cell_type": "markdown",
   "metadata": {},
   "source": [
    "# Question 7 Python\n",
    "File bloodtype1.txt records blood-types of patients (A, B, AB, O or OO) at a clinic. Write a function bldcount() that reads the file with name name and reports (i.e., prints) how many patients there are in each bloodtype.\n"
   ]
  },
  {
   "cell_type": "code",
   "execution_count": 2,
   "metadata": {
    "scrolled": true
   },
   "outputs": [
    {
     "name": "stdout",
     "output_type": "stream",
     "text": [
      "There are 15 people with A blood group\n",
      "There are 13 people with AB blood group\n",
      "There are 1 people with B blood group\n",
      "There are 15 people with O blood group\n",
      "There are 0 people with OO blood group\n"
     ]
    }
   ],
   "source": [
    "import numpy as np\n",
    "import pandas as pd\n",
    "f = open(\"/Users/sanatkhare/Downloads/bloodtype1.txt\",\"r\")\n",
    "blood_grps = f.read().split(\" \")\n",
    "j = 0\n",
    "k = 0\n",
    "l = 0\n",
    "m = 0\n",
    "n = 0\n",
    "for x in blood_grps:\n",
    "    if x == \"A\":\n",
    "        j= j + 1\n",
    "    elif x == \"AB\":\n",
    "        k+=1\n",
    "    elif x == \"B\":\n",
    "        l+=1  \n",
    "    elif x == \"O\":\n",
    "        m+=1\n",
    "    elif x == \"OO\":\n",
    "        n+=1 \n",
    "    elif x == \"\\n\":\n",
    "        break\n",
    "print(\"There are\" , j , \"people with A blood group\")\n",
    "print(\"There are\" , k , \"people with AB blood group\")\n",
    "print(\"There are\" , l , \"people with B blood group\")\n",
    "print(\"There are\" , m , \"people with O blood group\")\n",
    "print(\"There are\" , n , \"people with OO blood group\")"
   ]
  },
  {
   "cell_type": "markdown",
   "metadata": {},
   "source": [
    "# Question 8 Python\n",
    "Write a function curconv() that takes as input:\n",
    "1. a currency represented using a string (e.g., 'JPY' for the Japanese Yen or 'EUR' for the Euro)\n",
    "2. an amount\n",
    "and then converts and returns the amount in US dollars.\n"
   ]
  },
  {
   "cell_type": "code",
   "execution_count": 29,
   "metadata": {},
   "outputs": [
    {
     "name": "stdout",
     "output_type": "stream",
     "text": [
      "1.241401\n",
      "122.96544\n"
     ]
    }
   ],
   "source": [
    "import numpy as np\n",
    "import pandas as pd\n",
    "def curconv(currency,amount):\n",
    "    f = open(\"currencies.txt\",\"r\")\n",
    "    f1 = f.readlines()\n",
    "    f.close()\n",
    "    for f in f1:\n",
    "        group = f.split()\n",
    "        if currency == group[0]:\n",
    "            currency = float(group[1])\n",
    "            valueconv = amount * currency\n",
    "    print(valueconv)\n",
    "curconv('JPY',100)\n",
    "curconv('EUR', 100)"
   ]
  },
  {
   "cell_type": "markdown",
   "metadata": {},
   "source": [
    "# Question 9 Python\n",
    "Each of the following will cause an exception (an error). Identify what type of exception each will cause."
   ]
  },
  {
   "cell_type": "markdown",
   "metadata": {},
   "source": [
    "Trying to add incompatible variables, as in adding 6 + ‘a’     - TypeError\n",
    "\n",
    "Referring to the 12th item of a list that has only 10 items      - IndexError \n",
    "\n",
    "Using a value that is out of range for a function’s input, such as calling math.sqrt(-1.0)     -  ValueError\n",
    "\n",
    "Using an undeclared variable, such as print(x) when x has not been defined      - NameError\n",
    "\n",
    "Trying to open a file that does not exist, such as mistyping the file name or looking in the wrong directory.      - FileNotFoundError"
   ]
  },
  {
   "cell_type": "markdown",
   "metadata": {},
   "source": [
    "# Question 10 Python\n",
    "Encryption is the process of hiding the meaning of a text by substituting letters in the message with other letters, according to some system. If the process is successful, no one but the intended recipient can understand the encrypted message. Cryptanalysis refers to attempts to undo the encryption, even if some details of the encryption are unknown (for example, if an encrypted message has been intercepted). The first step of cryptanalysis is often to build up a table of letter frequencies in the encrypted text. Assume that the string letters is already defined as 'abcdefghijklmnopqrstuvwxyz'. Write a function called frequencies() that takes a string as its only parameter, and returns a list of integers, showing the number of times each character appears in the text. Your function may ignore any characters that are not in letters."
   ]
  },
  {
   "cell_type": "code",
   "execution_count": 1,
   "metadata": {},
   "outputs": [
    {
     "name": "stdout",
     "output_type": "stream",
     "text": [
      "[1, 1, 1, 3, 5, 1, 1, 2, 1, 0, 1, 0, 1, 2, 4, 0, 1, 2, 0, 3, 1, 0, 1, 1, 0, 0]\n",
      "[1, 0, 0, 0, 1, 0, 0, 0, 0, 0, 0, 1, 0, 0, 0, 2, 0, 0, 0, 0, 0, 0, 0, 0, 0, 0]\n"
     ]
    }
   ],
   "source": [
    "def frequencies(str_test):\n",
    "    letters = \"abcdefghijklmnopqrstuvwxyz\" \n",
    "    freq_arr = [0,0,0,0,0,0,0,0,0,0,0,0,0,0,0,0,0,0,0,0,0,0,0,0,0,0]\n",
    "    str_test = str_test.lower()\n",
    "    \n",
    "    for i in range(len(str_test)):\n",
    "        for j in range(len(letters)):\n",
    "            if(str_test[i] == letters[j]):\n",
    "                freq_arr[j] = freq_arr[j] + 1\n",
    "            j = j + 1\n",
    "        i = i + 1\n",
    "    print(freq_arr)\n",
    "                \n",
    "frequencies(\"The quick red fox got bored and went home\")\n",
    "frequencies(\"apple\")"
   ]
  },
  {
   "cell_type": "code",
   "execution_count": null,
   "metadata": {},
   "outputs": [],
   "source": []
  }
 ],
 "metadata": {
  "kernelspec": {
   "display_name": "Python 3",
   "language": "python",
   "name": "python3"
  },
  "language_info": {
   "codemirror_mode": {
    "name": "ipython",
    "version": 3
   },
   "file_extension": ".py",
   "mimetype": "text/x-python",
   "name": "python",
   "nbconvert_exporter": "python",
   "pygments_lexer": "ipython3",
   "version": "3.8.5"
  }
 },
 "nbformat": 4,
 "nbformat_minor": 4
}
